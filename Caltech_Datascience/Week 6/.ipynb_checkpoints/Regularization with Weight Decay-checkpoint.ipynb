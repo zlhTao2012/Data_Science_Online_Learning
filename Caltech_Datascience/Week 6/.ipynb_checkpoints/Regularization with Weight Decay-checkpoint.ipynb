{
 "cells": [
  {
   "cell_type": "code",
   "execution_count": 91,
   "metadata": {
    "collapsed": false
   },
   "outputs": [],
   "source": [
    "import numpy as np\n",
    "import pandas as pd\n",
    "import graphlab as gl"
   ]
  },
  {
   "cell_type": "markdown",
   "metadata": {},
   "source": [
    "## Create in sample dataset"
   ]
  },
  {
   "cell_type": "code",
   "execution_count": 92,
   "metadata": {
    "collapsed": false
   },
   "outputs": [],
   "source": [
    "in_raw = []\n",
    "with open('in.txt', 'r') as lines:\n",
    "    for line in lines:\n",
    "        in_raw.append(map(float, line.split()))\n",
    "        \n",
    "in_sample = pd.DataFrame(in_raw)\n",
    "#print(in_sample)"
   ]
  },
  {
   "cell_type": "markdown",
   "metadata": {},
   "source": [
    "## Create out sample dataset"
   ]
  },
  {
   "cell_type": "code",
   "execution_count": 93,
   "metadata": {
    "collapsed": false
   },
   "outputs": [],
   "source": [
    "out_raw = []\n",
    "with open('out.txt', 'r') as lines:\n",
    "    for line in lines:\n",
    "        out_raw.append(map(float, line.split()))\n",
    "        \n",
    "out_sample = pd.DataFrame(out_raw)        \n",
    "#print(out_sample)"
   ]
  },
  {
   "cell_type": "markdown",
   "metadata": {},
   "source": [
    "## Non-Linear transformation"
   ]
  },
  {
   "cell_type": "code",
   "execution_count": 100,
   "metadata": {
    "collapsed": false
   },
   "outputs": [],
   "source": [
    "in_sample_non_linear_transform = np.column_stack((np.ones(len(in_sample)), in_sample[0], in_sample[1], \\\n",
    "                                in_sample[0] * in_sample[0], in_sample[1] * in_sample[1], \\\n",
    "                                in_sample[0] * in_sample[1], abs(in_sample[0] - in_sample[1]), \\\n",
    "                                abs(in_sample[0] + in_sample[1])))"
   ]
  },
  {
   "cell_type": "code",
   "execution_count": 101,
   "metadata": {
    "collapsed": false
   },
   "outputs": [
    {
     "name": "stdout",
     "output_type": "stream",
     "text": [
      "[[  1.00000000e+00  -7.79470210e-01   8.38221380e-01   6.07573808e-01\n",
      "    7.02615082e-01  -6.53368595e-01   1.61769159e+00   5.87511700e-02]\n",
      " [  1.00000000e+00   1.55634910e-01   8.95377430e-01   2.42222252e-02\n",
      "    8.01700742e-01   1.39351986e-01   7.39742520e-01   1.05101234e+00]\n",
      " [  1.00000000e+00  -5.99077030e-02  -7.17779950e-01   3.58893288e-03\n",
      "    5.15208057e-01   4.30005481e-02   6.57872247e-01   7.77687653e-01]\n",
      " [  1.00000000e+00   2.07596360e-01   7.58933380e-01   4.30962487e-02\n",
      "    5.75979875e-01   1.57551807e-01   5.51337020e-01   9.66529740e-01]\n",
      " [  1.00000000e+00  -1.95983120e-01  -3.75487160e-01   3.84093833e-02\n",
      "    1.40990607e-01   7.35891451e-02   1.79504040e-01   5.71470280e-01]\n",
      " [  1.00000000e+00   5.88489470e-01  -8.42553810e-01   3.46319856e-01\n",
      "    7.09896923e-01  -4.95834045e-01   1.43104328e+00   2.54064340e-01]\n",
      " [  1.00000000e+00   7.19858740e-03  -5.48316500e-01   5.18196606e-05\n",
      "    3.00650984e-01  -3.94710425e-03   5.55515087e-01   5.41117913e-01]\n",
      " [  1.00000000e+00   7.38838520e-01  -6.03393690e-01   5.45882359e-01\n",
      "    3.64083945e-01  -4.45810501e-01   1.34223221e+00   1.35444830e-01]\n",
      " [  1.00000000e+00   7.04648080e-01  -2.04200520e-02   4.96528917e-01\n",
      "    4.16978524e-04  -1.43889504e-02   7.25068132e-01   6.84228028e-01]\n",
      " [  1.00000000e+00   9.69926660e-01   6.41371200e-01   9.40757726e-01\n",
      "    4.11357016e-01   6.22083026e-01   3.28555460e-01   1.61129786e+00]\n",
      " [  1.00000000e+00   4.35430990e-01   7.44772540e-01   1.89600147e-01\n",
      "    5.54686136e-01   3.24297044e-01   3.09341550e-01   1.18020353e+00]\n",
      " [  1.00000000e+00  -8.44258220e-01   7.42354230e-01   7.12771942e-01\n",
      "    5.51089803e-01  -6.26738661e-01   1.58661245e+00   1.01903990e-01]\n",
      " [  1.00000000e+00   5.91424710e-01  -5.46021180e-01   3.49783188e-01\n",
      "    2.98139129e-01  -3.22930418e-01   1.13744589e+00   4.54035300e-02]\n",
      " [  1.00000000e+00  -6.90931240e-02   3.76599950e-02   4.77385978e-03\n",
      "    1.41827522e-03  -2.60204670e-03   1.06753119e-01   3.14331290e-02]\n",
      " [  1.00000000e+00  -9.51548650e-01  -7.33055020e-01   9.05444833e-01\n",
      "    5.37369662e-01   6.97537515e-01   2.18493630e-01   1.68460367e+00]\n",
      " [  1.00000000e+00  -1.29881380e-01   7.56760960e-01   1.68691729e-02\n",
      "    5.72687151e-01  -9.82891578e-02   8.86642340e-01   6.26879580e-01]\n",
      " [  1.00000000e+00  -4.95346470e-01  -5.66279080e-01   2.45368125e-01\n",
      "    3.20671996e-01   2.80504343e-01   7.09326100e-02   1.06162555e+00]\n",
      " [  1.00000000e+00  -9.03994130e-01   5.09221500e-01   8.17205387e-01\n",
      "    2.59306536e-01  -4.60333247e-01   1.41321563e+00   3.94772630e-01]\n",
      " [  1.00000000e+00   2.92351280e-01   1.60890150e-01   8.54692709e-02\n",
      "    2.58856404e-02   4.70364413e-02   1.31461130e-01   4.53241430e-01]\n",
      " [  1.00000000e+00   6.47985520e-01  -7.79337690e-01   4.19885234e-01\n",
      "    6.07367235e-01  -5.04999538e-01   1.42732321e+00   1.31352170e-01]\n",
      " [  1.00000000e+00   3.75955740e-01   7.82030870e-02   1.41342718e-01\n",
      "    6.11572282e-03   2.94008994e-02   2.97752653e-01   4.54158827e-01]\n",
      " [  1.00000000e+00   2.45889930e-01   4.51467390e-03   6.04618577e-02\n",
      "    2.03822804e-05   1.11011285e-03   2.41375256e-01   2.50404604e-01]\n",
      " [  1.00000000e+00  -4.57191550e-01   4.23904610e-01   2.09024113e-01\n",
      "    1.79695118e-01  -1.93805606e-01   8.81096160e-01   3.32869400e-02]\n",
      " [  1.00000000e+00  -4.41278760e-01   7.05718920e-01   1.94726944e-01\n",
      "    4.98039194e-01  -3.11418770e-01   1.14699768e+00   2.64440160e-01]\n",
      " [  1.00000000e+00   5.07446690e-01   7.58725860e-01   2.57502143e-01\n",
      "    5.75664931e-01   3.85012926e-01   2.51279170e-01   1.26617255e+00]\n",
      " [  1.00000000e+00  -1.32583810e-01  -5.81788370e-01   1.75784667e-02\n",
      "    3.38477707e-01   7.71357187e-02   4.49204560e-01   7.14372180e-01]\n",
      " [  1.00000000e+00  -4.47490670e-01   1.95763640e-01   2.00247900e-01\n",
      "    3.83234027e-02  -8.76024024e-02   6.43254310e-01   2.51727030e-01]\n",
      " [  1.00000000e+00   8.16581990e-01  -4.54491820e-01   6.66806146e-01\n",
      "    2.06562814e-01  -3.71129835e-01   1.27107381e+00   3.62090170e-01]\n",
      " [  1.00000000e+00  -9.44224080e-01   8.82734210e-01   8.91559113e-01\n",
      "    7.79219686e-01  -8.33498897e-01   1.82695829e+00   6.14898700e-02]\n",
      " [  1.00000000e+00   4.62655330e-01   3.55836050e-01   2.14049954e-01\n",
      "    1.26619294e-01   1.64629445e-01   1.06819280e-01   8.18491380e-01]\n",
      " [  1.00000000e+00   8.83116420e-01  -1.99300130e-01   7.79894611e-01\n",
      "    3.97205418e-02  -1.76005217e-01   1.08241655e+00   6.83816290e-01]\n",
      " [  1.00000000e+00   1.00160500e+00   5.25754760e-01   1.00321258e+00\n",
      "    2.76418068e-01   5.26598596e-01   4.75850240e-01   1.52735976e+00]\n",
      " [  1.00000000e+00   6.03700950e-01  -5.45537010e-01   3.64454837e-01\n",
      "    2.97610629e-01  -3.29341211e-01   1.14923796e+00   5.81639400e-02]\n",
      " [  1.00000000e+00  -1.48587570e-01  -2.13083720e-01   2.20782660e-02\n",
      "    4.54046717e-02   3.16615922e-02   6.44961500e-02   3.61671290e-01]\n",
      " [  1.00000000e+00   1.16521630e-02   8.89239310e-01   1.35772903e-04\n",
      "    7.90746550e-01   1.03615614e-02   8.77587147e-01   9.00891473e-01]]\n"
     ]
    }
   ],
   "source": [
    "print in_sample_non_linear_transform"
   ]
  },
  {
   "cell_type": "code",
   "execution_count": 102,
   "metadata": {
    "collapsed": true
   },
   "outputs": [],
   "source": [
    "out_sample_non_linear_transform = np.column_stack((np.ones(len(out_sample)), out_sample[0], out_sample[1], \\\n",
    "                                out_sample[0] * out_sample[0], out_sample[1] * out_sample[1], \\\n",
    "                                out_sample[0] * out_sample[1], abs(out_sample[0] - out_sample[1]), \\\n",
    "                                abs(out_sample[0] + out_sample[1])))"
   ]
  },
  {
   "cell_type": "code",
   "execution_count": 103,
   "metadata": {
    "collapsed": false
   },
   "outputs": [
    {
     "name": "stdout",
     "output_type": "stream",
     "text": [
      "[[ 1.         -0.10600562 -0.08146703 ...,  0.00863596  0.          0.21201124]\n",
      " [ 1.          0.17792951 -0.34595141 ..., -0.06155496  0.          0.35585902]\n",
      " [ 1.          0.10216153  0.71825825 ...,  0.07337836  0.          0.20432306]\n",
      " ..., \n",
      " [ 1.          0.34704463 -0.54508368 ..., -0.18916836  0.          0.69408926]\n",
      " [ 1.          0.83637625  0.3438308  ...,  0.28757192  0.          1.6727525 ]\n",
      " [ 1.         -0.7138508  -0.64057506 ...,  0.45727502  0.          1.4277016 ]]\n"
     ]
    }
   ],
   "source": [
    "print out_sampe_non_linear_transform"
   ]
  },
  {
   "cell_type": "markdown",
   "metadata": {},
   "source": [
    "## Run Linear Regression on the Training Set After Performing the Non-Linear Transformation"
   ]
  },
  {
   "cell_type": "code",
   "execution_count": 131,
   "metadata": {
    "collapsed": false
   },
   "outputs": [
    {
     "name": "stdout",
     "output_type": "stream",
     "text": [
      "[-1.64706706 -0.14505927  0.10154121 -2.03296844 -1.82804373  2.48152945\n",
      "  4.15893861  0.31651714]\n"
     ]
    }
   ],
   "source": [
    "# Weights based on the Linear Regression Algorithm\n",
    "weights = np.dot(np.linalg.pinv(in_sample_non_linear_transform), in_sample[2])    \n",
    "\n",
    "print weights"
   ]
  },
  {
   "cell_type": "markdown",
   "metadata": {},
   "source": [
    "### In Sample Error"
   ]
  },
  {
   "cell_type": "code",
   "execution_count": 105,
   "metadata": {
    "collapsed": false
   },
   "outputs": [
    {
     "name": "stdout",
     "output_type": "stream",
     "text": [
      "0.0285714285714\n"
     ]
    }
   ],
   "source": [
    "# Calculate the sign of predictions\n",
    "in_predictions = np.sign(np.dot(in_sample_non_linear_transform, weights))\n",
    "\n",
    "# compare the prediction with output\n",
    "errors = gl.SArray(in_predictions == in_sample[2])\n",
    "\n",
    "in_sample_errors = 1 - sum(errors) / float(len(errors))\n",
    "\n",
    "print in_sample_errors"
   ]
  },
  {
   "cell_type": "markdown",
   "metadata": {},
   "source": [
    "### Out Sample Error"
   ]
  },
  {
   "cell_type": "code",
   "execution_count": 106,
   "metadata": {
    "collapsed": false
   },
   "outputs": [
    {
     "name": "stdout",
     "output_type": "stream",
     "text": [
      "0.084\n"
     ]
    }
   ],
   "source": [
    "# Calculate the sign of predictions\n",
    "out_predictions = np.sign(np.dot(out_sample_non_linear_transform, weights))\n",
    "\n",
    "# compare the prediction with output\n",
    "errors = gl.SArray(out_predictions == out_sample[2])\n",
    "\n",
    "out_sample_errors = 1 - sum(errors) / float(len(errors))\n",
    "\n",
    "print out_sample_errors"
   ]
  },
  {
   "cell_type": "markdown",
   "metadata": {},
   "source": [
    "## Add weight decay to Linear Regression (k = 10**-3)"
   ]
  },
  {
   "cell_type": "code",
   "execution_count": 145,
   "metadata": {
    "collapsed": false
   },
   "outputs": [],
   "source": [
    "k = 10**-3\n",
    "\n",
    "# Weights based on the Linear Regression Algorithm with Gradient Descent\n",
    "\n",
    "weights = np.dot(np.dot(np.linalg.inv(np.dot(in_sample_non_linear_transform.transpose(), in_sample_non_linear_transform) + k*np.identity(8)), in_sample_non_linear_transform.transpose()), in_sample[2])   "
   ]
  },
  {
   "cell_type": "code",
   "execution_count": 146,
   "metadata": {
    "collapsed": false
   },
   "outputs": [
    {
     "name": "stdout",
     "output_type": "stream",
     "text": [
      "[-1.6432827  -0.14333537  0.10144329 -2.02456533 -1.81721505  2.45550685\n",
      "  4.14009201  0.31960135]\n"
     ]
    }
   ],
   "source": [
    "print weights"
   ]
  },
  {
   "cell_type": "markdown",
   "metadata": {},
   "source": [
    "### In Sample Error"
   ]
  },
  {
   "cell_type": "code",
   "execution_count": 147,
   "metadata": {
    "collapsed": false
   },
   "outputs": [
    {
     "name": "stdout",
     "output_type": "stream",
     "text": [
      "0.0295258391381\n"
     ]
    }
   ],
   "source": [
    "# Calculate the sign of predictions\n",
    "in_predictions = np.sign(np.dot(in_sample_non_linear_transform, weights))\n",
    "\n",
    "# compare the prediction with output\n",
    "errors = gl.SArray(in_predictions == in_sample[2]) \n",
    "\n",
    "in_sample_errors = 1 - sum(errors) / float(len(errors)) + k/len(in_predictions)*np.dot(weights, weights)\n",
    "\n",
    "print in_sample_errors"
   ]
  },
  {
   "cell_type": "markdown",
   "metadata": {},
   "source": [
    "### Out Sample Error"
   ]
  },
  {
   "cell_type": "code",
   "execution_count": 144,
   "metadata": {
    "collapsed": false
   },
   "outputs": [
    {
     "name": "stdout",
     "output_type": "stream",
     "text": [
      "0.08\n"
     ]
    }
   ],
   "source": [
    "# Calculate the sign of predictions\n",
    "out_predictions = np.sign(np.dot(out_sample_non_linear_transform, weights))\n",
    "\n",
    "# compare the prediction with output\n",
    "errors = gl.SArray(out_predictions == out_sample[2])\n",
    "\n",
    "out_sample_errors = 1 - sum(errors) / float(len(errors))\n",
    "\n",
    "print out_sample_errors"
   ]
  },
  {
   "cell_type": "markdown",
   "metadata": {},
   "source": [
    "## Add weight decay to Linear Regression (k = 10**3)"
   ]
  },
  {
   "cell_type": "code",
   "execution_count": 148,
   "metadata": {
    "collapsed": true
   },
   "outputs": [],
   "source": [
    "k = 10**3\n",
    "\n",
    "# Weights based on the Linear Regression Algorithm with Gradient Descent\n",
    "\n",
    "weights = np.dot(np.dot(np.linalg.inv(np.dot(in_sample_non_linear_transform.transpose(), in_sample_non_linear_transform) + k*np.identity(8)), in_sample_non_linear_transform.transpose()), in_sample[2])   "
   ]
  },
  {
   "cell_type": "code",
   "execution_count": 149,
   "metadata": {
    "collapsed": false
   },
   "outputs": [
    {
     "name": "stdout",
     "output_type": "stream",
     "text": [
      "[ 0.00435688 -0.00134416  0.0024939   0.00328695  0.00484127 -0.00862023\n",
      "  0.01786706 -0.00490192]\n"
     ]
    }
   ],
   "source": [
    "print weights"
   ]
  },
  {
   "cell_type": "markdown",
   "metadata": {},
   "source": [
    "### In Sample Error"
   ]
  },
  {
   "cell_type": "code",
   "execution_count": 181,
   "metadata": {
    "collapsed": false
   },
   "outputs": [
    {
     "name": "stdout",
     "output_type": "stream",
     "text": [
      "0.0724754409376\n"
     ]
    }
   ],
   "source": [
    "# Calculate the sign of predictions\n",
    "in_predictions = np.sign(np.dot(in_sample_non_linear_transform, weights))\n",
    "\n",
    "# compare the prediction with output\n",
    "errors = gl.SArray(in_predictions == in_sample[2]) \n",
    "\n",
    "in_sample_errors = 1 - sum(errors) / float(len(errors)) + k/len(in_predictions)*np.dot(weights, weights)\n",
    "\n",
    "print in_sample_errors"
   ]
  },
  {
   "cell_type": "markdown",
   "metadata": {},
   "source": [
    "### Out Sample Error"
   ]
  },
  {
   "cell_type": "code",
   "execution_count": 152,
   "metadata": {
    "collapsed": false
   },
   "outputs": [
    {
     "name": "stdout",
     "output_type": "stream",
     "text": [
      "0.436\n"
     ]
    }
   ],
   "source": [
    "# Calculate the sign of predictions\n",
    "out_predictions = np.sign(np.dot(out_sample_non_linear_transform, weights))\n",
    "\n",
    "# compare the prediction with output\n",
    "errors = gl.SArray(out_predictions == out_sample[2])\n",
    "\n",
    "out_sample_errors = 1 - sum(errors) / float(len(errors))\n",
    "\n",
    "print out_sample_errors"
   ]
  },
  {
   "cell_type": "markdown",
   "metadata": {},
   "source": [
    "## Choose the value of k among (2, 1, 0, -1, -2) that achieves the smallest out-of sample classification error"
   ]
  },
  {
   "cell_type": "code",
   "execution_count": 179,
   "metadata": {
    "collapsed": true
   },
   "outputs": [],
   "source": [
    "k = 10**-1\n",
    "\n",
    "# Weights based on the Linear Regression Algorithm with Gradient Descent\n",
    "\n",
    "weights = np.dot(np.dot(np.linalg.inv(np.dot(in_sample_non_linear_transform.transpose(), in_sample_non_linear_transform) + k*np.identity(8)), in_sample_non_linear_transform.transpose()), in_sample[2])   "
   ]
  },
  {
   "cell_type": "code",
   "execution_count": 180,
   "metadata": {
    "collapsed": false
   },
   "outputs": [
    {
     "name": "stdout",
     "output_type": "stream",
     "text": [
      "0.056\n"
     ]
    }
   ],
   "source": [
    "# Calculate the sign of predictions\n",
    "out_predictions = np.sign(np.dot(out_sample_non_linear_transform, weights))\n",
    "\n",
    "# compare the prediction with output\n",
    "errors = gl.SArray(out_predictions == out_sample[2])\n",
    "\n",
    "out_sample_errors = 1 - sum(errors) / float(len(errors))\n",
    "\n",
    "print out_sample_errors"
   ]
  },
  {
   "cell_type": "code",
   "execution_count": null,
   "metadata": {
    "collapsed": true
   },
   "outputs": [],
   "source": []
  }
 ],
 "metadata": {
  "kernelspec": {
   "display_name": "Python 2",
   "language": "python",
   "name": "python2"
  },
  "language_info": {
   "codemirror_mode": {
    "name": "ipython",
    "version": 2
   },
   "file_extension": ".py",
   "mimetype": "text/x-python",
   "name": "python",
   "nbconvert_exporter": "python",
   "pygments_lexer": "ipython2",
   "version": "2.7.11"
  }
 },
 "nbformat": 4,
 "nbformat_minor": 0
}
