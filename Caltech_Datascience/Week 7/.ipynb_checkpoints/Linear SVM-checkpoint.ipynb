{
 "cells": [
  {
   "cell_type": "code",
   "execution_count": 36,
   "metadata": {
    "collapsed": false
   },
   "outputs": [],
   "source": [
    "import cvxopt\n",
    "import numpy as np\n",
    "import random\n",
    "import graphlab as gl\n",
    "import matplotlib.pyplot as plt\n",
    "%matplotlib inline"
   ]
  },
  {
   "cell_type": "code",
   "execution_count": 37,
   "metadata": {
    "collapsed": true
   },
   "outputs": [],
   "source": [
    "def output_func(x1, x2, slope, point):\n",
    "    output = slope*x1 - slope*point[0] + point[1] - x2\n",
    "    return output"
   ]
  },
  {
   "cell_type": "code",
   "execution_count": 38,
   "metadata": {
    "collapsed": false
   },
   "outputs": [],
   "source": [
    "N = 100\n",
    "\n",
    "features_1 = np.array(([[1]]*N))\n",
    "features_2 = np.array((np.random.uniform(-1, 1., size=(N, 2)))) # generating two random, uniformly distributed points in [-1, 1]\n",
    "features = np.hstack((features_1, features_2))\n",
    "\n",
    "# random points of the random line that determine the output (+1, -1)\n",
    "function_f_points = np.array((np.random.uniform(-1, 1., size=(2, 2))))   \n",
    "\n",
    "# Calculate the slope\n",
    "slope = (function_f_points[1,1] - function_f_points[0,1])/(function_f_points[1,0] - function_f_points[0,0])\n",
    "\n",
    "# Calculate the output\n",
    "output = output_func(features_2[:,0], features_2[:,1], slope, function_f_points[0,:])\n",
    "output = list(gl.SArray(np.sign(output)))"
   ]
  },
  {
   "cell_type": "code",
   "execution_count": 39,
   "metadata": {
    "collapsed": true
   },
   "outputs": [],
   "source": [
    "# Combine all features and output\n",
    "features_output = np.hstack((features, np.array((output)).reshape(N,1)))\n",
    "\n",
    "# Determine the positive points and negative points\n",
    "pos_list = list()\n",
    "neg_list = list()\n",
    "\n",
    "for i in features_output:\n",
    "    if i[3] == 1:\n",
    "        pos_list.append([i[1],i[2]])\n",
    "    elif i[3] == -1:\n",
    "        neg_list.append([i[1],i[2]])\n",
    "\n",
    "#print pos_list\n",
    "#print neg_list"
   ]
  },
  {
   "cell_type": "code",
   "execution_count": 40,
   "metadata": {
    "collapsed": false
   },
   "outputs": [
    {
     "data": {
      "text/plain": [
       "[<matplotlib.lines.Line2D at 0x130c4a790>]"
      ]
     },
     "execution_count": 40,
     "metadata": {},
     "output_type": "execute_result"
    },
    {
     "data": {
      "image/png": "[encoded data removed]",
      "text/plain": [
       "<matplotlib.figure.Figure at 0x131c937d0>"
      ]
     },
     "metadata": {},
     "output_type": "display_data"
    }
   ],
   "source": [
    "# Draw the positive and negative points\n",
    "for i in pos_list:\n",
    "    plt.plot(i[0], i[1], \"ro\", c='green')\n",
    "\n",
    "for i in neg_list:   \n",
    "    plt.plot(i[0], i[1], \"ro\", c='red')\n",
    "\n",
    "\n",
    "# Draw the random line\n",
    "x_list = list()\n",
    "y_list = list()\n",
    "\n",
    "for x in range(-1, 2):\n",
    "        x_list.append(x)\n",
    "        \n",
    "        y = slope*x - slope*function_f_points[0,:][0] + function_f_points[0,:][1] \n",
    "        y_list.append(y)\n",
    "\n",
    "#print slope\n",
    "\n",
    "axes = plt.gca()\n",
    "axes.set_xlim([-1.2,1.2])\n",
    "axes.set_ylim([-1.2,1.2])\n",
    "plt.plot(x_list, y_list)"
   ]
  },
  {
   "cell_type": "code",
   "execution_count": 41,
   "metadata": {
    "collapsed": true
   },
   "outputs": [],
   "source": [
    "# Quadratic coefficients\n",
    "for i in xrange(N):\n",
    "    \n",
    "    f_new = np.array(([np.dot(output[i]*output[j]*features_2[i,:].transpose(), features_2[j,:]) for j in xrange(N)]))\n",
    "    \n",
    "    # combine the matrix lines\n",
    "    if i == 0:\n",
    "        f = np.array(f_new)      \n",
    "    else: \n",
    "        f = np.vstack((f, f_new))\n",
    "\n",
    "#print f"
   ]
  },
  {
   "cell_type": "code",
   "execution_count": 42,
   "metadata": {
    "collapsed": true
   },
   "outputs": [],
   "source": [
    "P = cvxopt.matrix(f, tc='d')\n",
    "q = cvxopt.matrix(np.ones(N) * -1, tc='d')\n",
    "G = cvxopt.matrix(np.diag(np.ones(N) * -1))\n",
    "h = cvxopt.matrix(np.zeros(N))\n",
    "A = cvxopt.matrix(output, (1,N))\n",
    "b = cvxopt.matrix(0.0)"
   ]
  },
  {
   "cell_type": "code",
   "execution_count": 43,
   "metadata": {
    "collapsed": false
   },
   "outputs": [
    {
     "name": "stdout",
     "output_type": "stream",
     "text": [
      "     pcost       dcost       gap    pres   dres\n",
      " 0: -3.0325e+01 -6.6176e+01  4e+02  2e+01  2e+00\n",
      " 1: -7.7938e+01 -8.6178e+01  2e+02  8e+00  9e-01\n",
      " 2: -1.2439e+02 -1.3022e+02  2e+02  8e+00  9e-01\n",
      " 3: -5.4734e+02 -5.0830e+02  2e+02  7e+00  9e-01\n",
      " 4: -5.3276e+02 -5.1700e+02  4e+02  6e+00  8e-01\n",
      " 5: -5.6564e+02 -5.4859e+02  4e+02  5e+00  6e-01\n",
      " 6: -4.6027e+02 -4.8484e+02  3e+02  2e+00  2e-01\n",
      " 7: -3.9161e+02 -3.9411e+02  1e+01  7e-02  8e-03\n",
      " 8: -3.9147e+02 -3.9151e+02  2e-01  8e-04  1e-04\n",
      " 9: -3.9147e+02 -3.9147e+02  2e-03  8e-06  1e-06\n",
      "10: -3.9147e+02 -3.9147e+02  2e-05  8e-08  1e-08\n",
      "Optimal solution found.\n"
     ]
    }
   ],
   "source": [
    "# Solve the quadratic program\n",
    "\n",
    "#cvxopt.solvers.options['show_progress'] = False # Turn off the 'show_progress'\n",
    "\n",
    "sol = cvxopt.solvers.qp(P,q,G,h,A,b)\n",
    "#print sol['x']"
   ]
  },
  {
   "cell_type": "code",
   "execution_count": 44,
   "metadata": {
    "collapsed": false
   },
   "outputs": [
    {
     "name": "stdout",
     "output_type": "stream",
     "text": [
      "4 support vectors out of 100 points\n"
     ]
    }
   ],
   "source": [
    "# Lagrange multipliers\n",
    "all_a = np.ravel(sol['x'])\n",
    "\n",
    "# Support vectors have non zero lagrange multipliers\n",
    "sv = all_a > 1e-5\n",
    "#print sv\n",
    "ind = np.arange(len(all_a))[sv]\n",
    "#print ind\n",
    "\n",
    "a = all_a[sv]\n",
    "#print a\n",
    "sv_features = features_2[sv]\n",
    "#print sv\n",
    "sv_y = np.array(output)[sv]\n",
    "print \"%d support vectors out of %d points\" % (len(a), N)\n",
    "\n",
    "K = np.zeros((N, N))\n",
    "for i in xrange(N):\n",
    "    for j in xrange(N):\n",
    "        K[i,j] = np.dot(features_2[i], features_2[j])\n"
   ]
  },
  {
   "cell_type": "code",
   "execution_count": 45,
   "metadata": {
    "collapsed": false
   },
   "outputs": [
    {
     "name": "stdout",
     "output_type": "stream",
     "text": [
      "5.17564578012\n",
      "[ 22.67067198 -16.40069812]\n"
     ]
    }
   ],
   "source": [
    "# Intercept -- Average all support vectors' intercept value\n",
    "b = 0\n",
    "for n in xrange(len(a)):\n",
    "    b += sv_y[n]\n",
    "    b -= np.sum(a * sv_y * K[ind[n],sv])\n",
    "    \n",
    "b /= len(a)\n",
    "print b\n",
    "\n",
    "# Weights\n",
    "weights = np.zeros(2)\n",
    "for n in xrange(len(a)):\n",
    "    weights += a[n] * sv_y[n] * sv_features[n] \n",
    "print weights"
   ]
  },
  {
   "cell_type": "code",
   "execution_count": 46,
   "metadata": {
    "collapsed": false
   },
   "outputs": [
    {
     "name": "stdout",
     "output_type": "stream",
     "text": [
      "5.09773580636\n",
      "5.20161569801\n",
      "5.20161572948\n",
      "5.20161588663\n",
      "5.17564578012\n"
     ]
    }
   ],
   "source": [
    "# Using the formula to check the intercept value \n",
    "\n",
    "b_list = list()\n",
    "for i in ind:  \n",
    "    x_list = list()\n",
    "    y_list = list()\n",
    "\n",
    "    b_temp = 1/float(output[i]) - np.dot(weights,features_2[i]) \n",
    "    \n",
    "    print b_temp\n",
    "    \n",
    "    b_list.append(b_temp)\n",
    "\n",
    "print sum(b_list) / float(len(b_list))"
   ]
  },
  {
   "cell_type": "code",
   "execution_count": 47,
   "metadata": {
    "collapsed": false
   },
   "outputs": [
    {
     "data": {
      "text/plain": [
       "[<matplotlib.lines.Line2D at 0x13222c4d0>]"
      ]
     },
     "execution_count": 47,
     "metadata": {},
     "output_type": "execute_result"
    },
    {
     "data": {
      "image/png": "[encoded data removed]",
      "text/plain": [
       "<matplotlib.figure.Figure at 0x13222c550>"
      ]
     },
     "metadata": {},
     "output_type": "display_data"
    }
   ],
   "source": [
    "# Draw the positive and negative points\n",
    "for i in pos_list:\n",
    "    plt.plot(i[0], i[1], \"ro\", c='green')\n",
    "\n",
    "for i in neg_list:   \n",
    "    plt.plot(i[0], i[1], \"ro\", c='red')\n",
    "\n",
    "# Draw the support vector points\n",
    "for i in ind:\n",
    "    plt.plot(features_2[i][0], features_2[i][1], \"ro\", c='yellow')\n",
    "\n",
    "# Draw the linear SVM line    \n",
    "x_list = list()\n",
    "y_list = list() \n",
    "\n",
    "for x in range(-1, 2):\n",
    "    x_list.append(x)\n",
    "\n",
    "    y = - (weights[0]*x + b_temp)/weights[1]\n",
    "    y_list.append(y)\n",
    "    \n",
    "\n",
    "axes = plt.gca()\n",
    "axes.set_xlim([-1.2,1.2])\n",
    "axes.set_ylim([-1.2,1.2])\n",
    "plt.plot(x_list, y_list) \n"
   ]
  },
  {
   "cell_type": "code",
   "execution_count": null,
   "metadata": {
    "collapsed": true
   },
   "outputs": [],
   "source": []
  }
 ],
 "metadata": {
  "kernelspec": {
   "display_name": "Python 2",
   "language": "python",
   "name": "python2"
  },
  "language_info": {
   "codemirror_mode": {
    "name": "ipython",
    "version": 2
   },
   "file_extension": ".py",
   "mimetype": "text/x-python",
   "name": "python",
   "nbconvert_exporter": "python",
   "pygments_lexer": "ipython2",
   "version": "2.7.11"
  }
 },
 "nbformat": 4,
 "nbformat_minor": 0
}
