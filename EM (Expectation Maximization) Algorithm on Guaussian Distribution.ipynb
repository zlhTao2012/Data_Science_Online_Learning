{
 "cells": [
  {
   "cell_type": "markdown",
   "metadata": {},
   "source": [
    "# Univariate Gaussian Distribution"
   ]
  },
  {
   "cell_type": "markdown",
   "metadata": {},
   "source": [
    "$$\n",
    "N(x | \\mu, \\sigma) = \\frac{1}{(2\\pi\\sigma^2)^\\frac{1}{2}} exp{(-\\frac{(x-\\mu)^2}{2\\sigma^2})}\n",
    "$$\n",
    "$$\\mathbf{where} \\:\\: \\mu \\: is \\: mean \\: and \\: \\sigma \\: is \\: variance; $$\n"
   ]
  },
  {
   "cell_type": "markdown",
   "metadata": {},
   "source": [
    "# Multi-Variate Gaussian Distribution"
   ]
  },
  {
   "cell_type": "markdown",
   "metadata": {},
   "source": [
    "$$\n",
    "N(x | \\mu, \\Sigma) = \\frac{1}{(2\\pi\\Sigma)^\\frac{1}{2}} exp{(-\\frac{(x-\\mu)^2}{2\\Sigma})}\n",
    "$$\n",
    "$$\\mathbf{where} \\:\\: \\mu \\: is \\: mean \\: and \\: \\Sigma \\: is \\: covariance; $$"
   ]
  },
  {
   "cell_type": "markdown",
   "metadata": {},
   "source": [
    "# Consider log of Gaussian Distribution"
   ]
  },
  {
   "cell_type": "markdown",
   "metadata": {},
   "source": [
    "$$\n",
    "lnP(X| \\mu, \\Sigma) = -\\frac{1}{2}ln(2\\pi) -\\frac{1}{2}ln(\\Sigma) -\\frac{1}{2}(x-\\mu)^T\\Sigma^{-1}(x-\\mu)\n",
    "$$"
   ]
  },
  {
   "cell_type": "code",
   "execution_count": null,
   "metadata": {
    "collapsed": true
   },
   "outputs": [],
   "source": []
  }
 ],
 "metadata": {
  "kernelspec": {
   "display_name": "Python 2",
   "language": "python",
   "name": "python2"
  },
  "language_info": {
   "codemirror_mode": {
    "name": "ipython",
    "version": 2
   },
   "file_extension": ".py",
   "mimetype": "text/x-python",
   "name": "python",
   "nbconvert_exporter": "python",
   "pygments_lexer": "ipython2",
   "version": "2.7.11"
  }
 },
 "nbformat": 4,
 "nbformat_minor": 0
}
